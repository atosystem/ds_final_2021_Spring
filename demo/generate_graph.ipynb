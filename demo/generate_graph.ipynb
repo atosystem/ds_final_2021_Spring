{
  "nbformat": 4,
  "nbformat_minor": 0,
  "metadata": {
    "colab": {
      "name": "generate_graph.ipynb",
      "provenance": [],
      "collapsed_sections": []
    },
    "kernelspec": {
      "name": "python3",
      "display_name": "Python 3"
    },
    "language_info": {
      "name": "python"
    }
  },
  "cells": [
    {
      "cell_type": "code",
      "metadata": {
        "id": "yxSCBWe7KihQ"
      },
      "source": [
        "import json\n",
        "import pandas as pd"
      ],
      "execution_count": 1,
      "outputs": []
    },
    {
      "cell_type": "code",
      "metadata": {
        "id": "qblRi3dSLXpa"
      },
      "source": [
        "with open('./visualization_data.json', newline='') as f:\n",
        "    raw = json.load(f)"
      ],
      "execution_count": 2,
      "outputs": []
    },
    {
      "cell_type": "code",
      "metadata": {
        "id": "vgo2ua2TLl93",
        "colab": {
          "base_uri": "https://localhost:8080/"
        },
        "outputId": "b00a6d1e-f96c-43dc-afab-1c966969266c"
      },
      "source": [
        "print(raw.keys())\n",
        "for i in raw:\n",
        "  print(len(raw[i]))"
      ],
      "execution_count": 3,
      "outputs": [
        {
          "output_type": "stream",
          "text": [
            "dict_keys(['current_state_1', 'current_state_2', 'isolated_miss_rate', 'infected_isolated_rate', 'Accumulate_infect', 'Accumulate_cured'])\n",
            "15\n",
            "15\n",
            "5\n",
            "5\n",
            "15\n",
            "15\n"
          ],
          "name": "stdout"
        }
      ]
    },
    {
      "cell_type": "code",
      "metadata": {
        "id": "X1sv3qycL-Cv",
        "colab": {
          "base_uri": "https://localhost:8080/"
        },
        "outputId": "68167cb0-a365-4e03-ebda-166fa8120ecd"
      },
      "source": [
        "for i in raw:\n",
        "  print((raw[i]))"
      ],
      "execution_count": 4,
      "outputs": [
        {
          "output_type": "stream",
          "text": [
            "[12, 17, 63, 81, 182, 365, 305, 390, 484, 430, 476, 517, 393, 406, 450]\n",
            "[10, 22, 36, 49, 125, 341, 641, 905, 1255, 1632, 1980, 2358, 2745, 3035, 3319]\n",
            "[60.0, 0.0, 0.0, 0.0, 0.0]\n",
            "[42.42424242424242, 7.620320855614973, 3.5077951002227175, 2.3485364193328797, 1.9541427826993223]\n",
            "[22, 39, 99, 172, 349, 748, 1003, 1352, 1796, 2125, 2519, 2938, 3207, 3510, 3838]\n",
            "[0, 0, 0, 105, 105, 105, 120, 120, 120, 126, 126, 126, 132, 132, 132]\n"
          ],
          "name": "stdout"
        }
      ]
    },
    {
      "cell_type": "code",
      "metadata": {
        "id": "6LlhK_fcNVJV",
        "colab": {
          "base_uri": "https://localhost:8080/"
        },
        "outputId": "ebed129e-a370-40a6-98e3-255e395f0fec"
      },
      "source": [
        "new_miss_rate = []\n",
        "new_infected_rate = []\n",
        "_size = len(raw[\"isolated_miss_rate\"])\n",
        "repeat = int(len(raw['current_state_1'])/_size)\n",
        "_size_new = len(raw[\"infected_isolated_rate\"])\n",
        "repeat_new = int(len(raw['current_state_1'])/_size_new)\n",
        "for i in range(_size):\n",
        "  for j in range(repeat):\n",
        "    new_miss_rate.append((raw[\"isolated_miss_rate\"])[i])\n",
        "for i in range(_size_new):\n",
        "  for j in range(repeat_new):\n",
        "    new_infected_rate.append((raw[\"infected_isolated_rate\"])[i])\n",
        "raw[\"isolated_miss_rate\"] = new_miss_rate\n",
        "raw[\"infected_isolated_rate\"] = new_infected_rate\n",
        "print(raw.keys())\n",
        "for i in raw:\n",
        "  print(len(raw[i]))\n",
        "for i in raw:\n",
        "  print((raw[i]))"
      ],
      "execution_count": 5,
      "outputs": [
        {
          "output_type": "stream",
          "text": [
            "dict_keys(['current_state_1', 'current_state_2', 'isolated_miss_rate', 'infected_isolated_rate', 'Accumulate_infect', 'Accumulate_cured'])\n",
            "15\n",
            "15\n",
            "15\n",
            "15\n",
            "15\n",
            "15\n",
            "[12, 17, 63, 81, 182, 365, 305, 390, 484, 430, 476, 517, 393, 406, 450]\n",
            "[10, 22, 36, 49, 125, 341, 641, 905, 1255, 1632, 1980, 2358, 2745, 3035, 3319]\n",
            "[60.0, 60.0, 60.0, 0.0, 0.0, 0.0, 0.0, 0.0, 0.0, 0.0, 0.0, 0.0, 0.0, 0.0, 0.0]\n",
            "[42.42424242424242, 42.42424242424242, 42.42424242424242, 7.620320855614973, 7.620320855614973, 7.620320855614973, 3.5077951002227175, 3.5077951002227175, 3.5077951002227175, 2.3485364193328797, 2.3485364193328797, 2.3485364193328797, 1.9541427826993223, 1.9541427826993223, 1.9541427826993223]\n",
            "[22, 39, 99, 172, 349, 748, 1003, 1352, 1796, 2125, 2519, 2938, 3207, 3510, 3838]\n",
            "[0, 0, 0, 105, 105, 105, 120, 120, 120, 126, 126, 126, 132, 132, 132]\n"
          ],
          "name": "stdout"
        }
      ]
    },
    {
      "cell_type": "code",
      "metadata": {
        "id": "26wd6HOoQMnJ",
        "colab": {
          "base_uri": "https://localhost:8080/"
        },
        "outputId": "50c9d7b0-7ea2-49ad-a7cf-1768e5c46b95"
      },
      "source": [
        "d = dict()\n",
        "d[\"Population of incubation period\"] = raw['current_state_1']\n",
        "d[\"Population of pathogenesis\"] = raw['current_state_2']\n",
        "d[\"Isolated miss rate (%)\"] = raw['isolated_miss_rate']\n",
        "d[\"Infected isolated rate (%)\"] = raw['infected_isolated_rate']\n",
        "d[\"Total number of infected People\"] = raw['Accumulate_infect']\n",
        "d[\"Total number of cured People\"] = raw['Accumulate_cured']\n",
        "ind = pd.date_range('05/07/2021', periods = len(raw['current_state_1']), freq ='D') \n",
        "df = pd.DataFrame(d,index = ind)\n",
        "\n",
        "print(df)"
      ],
      "execution_count": 6,
      "outputs": [
        {
          "output_type": "stream",
          "text": [
            "            Population of incubation period  ...  Total number of cured People\n",
            "2021-05-07                               12  ...                             0\n",
            "2021-05-08                               17  ...                             0\n",
            "2021-05-09                               63  ...                             0\n",
            "2021-05-10                               81  ...                           105\n",
            "2021-05-11                              182  ...                           105\n",
            "2021-05-12                              365  ...                           105\n",
            "2021-05-13                              305  ...                           120\n",
            "2021-05-14                              390  ...                           120\n",
            "2021-05-15                              484  ...                           120\n",
            "2021-05-16                              430  ...                           126\n",
            "2021-05-17                              476  ...                           126\n",
            "2021-05-18                              517  ...                           126\n",
            "2021-05-19                              393  ...                           132\n",
            "2021-05-20                              406  ...                           132\n",
            "2021-05-21                              450  ...                           132\n",
            "\n",
            "[15 rows x 6 columns]\n"
          ],
          "name": "stdout"
        }
      ]
    },
    {
      "cell_type": "code",
      "metadata": {
        "id": "BkeAUe7xXJQe"
      },
      "source": [
        ""
      ],
      "execution_count": 6,
      "outputs": []
    },
    {
      "cell_type": "code",
      "metadata": {
        "id": "seIpTj_wSWMm",
        "colab": {
          "base_uri": "https://localhost:8080/"
        },
        "outputId": "df04d36c-abd6-48d6-c33f-318e215b3f3c"
      },
      "source": [
        "!pip install bar_chart_race\n",
        "\n",
        "import bar_chart_race as brc"
      ],
      "execution_count": 7,
      "outputs": [
        {
          "output_type": "stream",
          "text": [
            "Collecting bar_chart_race\n",
            "\u001b[?25l  Downloading https://files.pythonhosted.org/packages/09/01/f6d1a1a0978b39560843c54be7349804d7d2faef0a869acd7c8a6fc920b0/bar_chart_race-0.1.0-py3-none-any.whl (156kB)\n",
            "\r\u001b[K     |██                              | 10kB 13.5MB/s eta 0:00:01\r\u001b[K     |████▏                           | 20kB 18.5MB/s eta 0:00:01\r\u001b[K     |██████▎                         | 30kB 13.7MB/s eta 0:00:01\r\u001b[K     |████████▍                       | 40kB 10.3MB/s eta 0:00:01\r\u001b[K     |██████████▌                     | 51kB 4.4MB/s eta 0:00:01\r\u001b[K     |████████████▌                   | 61kB 4.7MB/s eta 0:00:01\r\u001b[K     |██████████████▋                 | 71kB 4.8MB/s eta 0:00:01\r\u001b[K     |████████████████▊               | 81kB 4.9MB/s eta 0:00:01\r\u001b[K     |██████████████████▉             | 92kB 5.1MB/s eta 0:00:01\r\u001b[K     |█████████████████████           | 102kB 5.2MB/s eta 0:00:01\r\u001b[K     |███████████████████████         | 112kB 5.2MB/s eta 0:00:01\r\u001b[K     |█████████████████████████       | 122kB 5.2MB/s eta 0:00:01\r\u001b[K     |███████████████████████████▏    | 133kB 5.2MB/s eta 0:00:01\r\u001b[K     |█████████████████████████████▎  | 143kB 5.2MB/s eta 0:00:01\r\u001b[K     |███████████████████████████████▍| 153kB 5.2MB/s eta 0:00:01\r\u001b[K     |████████████████████████████████| 163kB 5.2MB/s \n",
            "\u001b[?25hRequirement already satisfied: matplotlib>=3.1 in /usr/local/lib/python3.7/dist-packages (from bar_chart_race) (3.2.2)\n",
            "Requirement already satisfied: pandas>=0.24 in /usr/local/lib/python3.7/dist-packages (from bar_chart_race) (1.1.5)\n",
            "Requirement already satisfied: numpy>=1.11 in /usr/local/lib/python3.7/dist-packages (from matplotlib>=3.1->bar_chart_race) (1.19.5)\n",
            "Requirement already satisfied: kiwisolver>=1.0.1 in /usr/local/lib/python3.7/dist-packages (from matplotlib>=3.1->bar_chart_race) (1.3.1)\n",
            "Requirement already satisfied: python-dateutil>=2.1 in /usr/local/lib/python3.7/dist-packages (from matplotlib>=3.1->bar_chart_race) (2.8.1)\n",
            "Requirement already satisfied: cycler>=0.10 in /usr/local/lib/python3.7/dist-packages (from matplotlib>=3.1->bar_chart_race) (0.10.0)\n",
            "Requirement already satisfied: pyparsing!=2.0.4,!=2.1.2,!=2.1.6,>=2.0.1 in /usr/local/lib/python3.7/dist-packages (from matplotlib>=3.1->bar_chart_race) (2.4.7)\n",
            "Requirement already satisfied: pytz>=2017.2 in /usr/local/lib/python3.7/dist-packages (from pandas>=0.24->bar_chart_race) (2018.9)\n",
            "Requirement already satisfied: six>=1.5 in /usr/local/lib/python3.7/dist-packages (from python-dateutil>=2.1->matplotlib>=3.1->bar_chart_race) (1.15.0)\n",
            "Installing collected packages: bar-chart-race\n",
            "Successfully installed bar-chart-race-0.1.0\n"
          ],
          "name": "stdout"
        }
      ]
    },
    {
      "cell_type": "code",
      "metadata": {
        "id": "sLPO-Ir9SWr-",
        "colab": {
          "base_uri": "https://localhost:8080/"
        },
        "outputId": "3377593d-f6a2-4ed4-ee38-f5921b37f1ba"
      },
      "source": [
        "import bar_chart_race as bcr\n",
        "\n",
        "#df = bcr.load_dataset(df)\n",
        "\n",
        "bcr.bar_chart_race(\n",
        "    df=df,\n",
        "    filename=\"./Lu_demo.mp4\",\n",
        "    orientation='h',\n",
        "    sort='desc',\n",
        "    n_bars=6,\n",
        "    fixed_order=True,\n",
        "    fixed_max=True,\n",
        "    steps_per_period=10,\n",
        "    interpolate_period=False,\n",
        "    label_bars=True,\n",
        "    bar_size=.95,\n",
        "    period_label={'x': .99, 'y': .25, 'ha': 'right', 'va': 'center'},\n",
        "    period_fmt='%B %d, %Y',\n",
        "    period_summary_func=lambda v, r: {'x': .99, 'y': .18,\n",
        "                                      's': None,\n",
        "                                      'ha': 'right', 'size': 8, 'family': 'Courier New'},\n",
        "    perpendicular_bar_func=None,\n",
        "    period_length=500,\n",
        "    figsize=(5, 3),\n",
        "    dpi=144,\n",
        "    cmap='dark12',\n",
        "    title='COVID-19 Simulation',\n",
        "    title_size='',\n",
        "    bar_label_size=7,\n",
        "    tick_label_size=7,\n",
        "    shared_fontdict={'family' : 'Helvetica', 'color' : '.1'},\n",
        "    scale='linear',\n",
        "    writer=None,\n",
        "    fig=None,\n",
        "    bar_kwargs={'alpha': .7},\n",
        "    filter_column_colors=False)  \n"
      ],
      "execution_count": 8,
      "outputs": [
        {
          "output_type": "stream",
          "text": [
            "findfont: Font family ['Helvetica'] not found. Falling back to DejaVu Sans.\n",
            "findfont: Font family ['Helvetica'] not found. Falling back to DejaVu Sans.\n",
            "findfont: Font family ['Helvetica'] not found. Falling back to DejaVu Sans.\n"
          ],
          "name": "stderr"
        }
      ]
    }
  ]
}